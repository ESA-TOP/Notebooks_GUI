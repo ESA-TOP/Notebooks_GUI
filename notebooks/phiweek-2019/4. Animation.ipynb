{
 "cells": [
  {
   "cell_type": "markdown",
   "metadata": {},
   "source": [
    "# Animations with Adampy\n",
    "\n",
    "By creating animations we can easily see at the evolution of an atmospheric event. As an example we can create an animation of the Saharan dust plume that reach Austria at the end of October 2018 by using the CAMS european PM10 model. \n",
    "\n",
    "With Adampy we can easily create animations that can be later displayed or embeded into a website or publication."
   ]
  },
  {
   "cell_type": "code",
   "execution_count": 2,
   "metadata": {},
   "outputs": [],
   "source": [
    "import geopandas as gpd\n",
    "import numpy as np\n",
    "from datetime import datetime, timedelta, date\n",
    "import matplotlib.pyplot as plt\n",
    "import adampy as adam\n",
    "from IPython.display import Image"
   ]
  },
  {
   "cell_type": "code",
   "execution_count": 9,
   "metadata": {},
   "outputs": [],
   "source": [
    "start_date = date(2018, 10, 15)\n",
    "end_date = date(2018, 11, 15)\n",
    "#collection = 'Z_CAMS_C_ECMF_TCNO2'\n",
    "#collection = 'Z_CAMS_C_ECMF_TCSO2'\n",
    "#collection = 'Z_CAMS_C_ECMF_GTCO3'\n",
    "#collection = 'Z_CAMS_C_ECMF_PM10'\n",
    "collection = 'EU_CAMS_SURFACE_PM10'\n",
    "gif = adam.getAnimation('wcs.top-platform.eu', collection, start_date, end_date, frame_duration = 0.5, legend = False).get_data()\n"
   ]
  },
  {
   "cell_type": "code",
   "execution_count": 10,
   "metadata": {},
   "outputs": [
    {
     "data": {
      "text/html": [
       "<img src=\"gifs/EU_CAMS_SURFACE_PM10_2018-11-14T00:00:00.gif\"/>"
      ],
      "text/plain": [
       "<IPython.core.display.Image object>"
      ]
     },
     "execution_count": 10,
     "metadata": {},
     "output_type": "execute_result"
    }
   ],
   "source": [
    "Image(url=gif)"
   ]
  },
  {
   "cell_type": "code",
   "execution_count": null,
   "metadata": {},
   "outputs": [],
   "source": []
  }
 ],
 "metadata": {
  "kernelspec": {
   "display_name": "Python 3",
   "language": "python",
   "name": "python3"
  },
  "language_info": {
   "codemirror_mode": {
    "name": "ipython",
    "version": 3
   },
   "file_extension": ".py",
   "mimetype": "text/x-python",
   "name": "python",
   "nbconvert_exporter": "python",
   "pygments_lexer": "ipython3",
   "version": "3.6.8"
  }
 },
 "nbformat": 4,
 "nbformat_minor": 2
}
